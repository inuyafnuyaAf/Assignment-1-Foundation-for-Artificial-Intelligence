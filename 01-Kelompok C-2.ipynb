{
  "nbformat": 4,
  "nbformat_minor": 0,
  "metadata": {
    "colab": {
      "provenance": []
    },
    "kernelspec": {
      "name": "python3",
      "display_name": "Python 3"
    },
    "language_info": {
      "name": "python"
    }
  },
  "cells": [
    {
      "cell_type": "markdown",
      "source": [
        "Paper Money: <br>\n",
        "1. Rp 100,000    \n",
        "2. Rp 50,000   \n",
        "3. Rp 20,000   \n",
        "4. Rp 10,000   \n",
        "5. Rp 5,000   \n",
        "6. Rp 2,000\n",
        "<br>\n",
        "<br>\n",
        "Coins: <br>\n",
        "1. Rp 1,000  \n",
        "2. Rp 500  \n",
        "3. Rp 200\n",
        "4. Rp 100  \n",
        "*To make it easier, we assume that all Rp. 1000 denominations are coins.\n",
        "\n",
        "There are circumstances where the bank must liquidate all customer savings in the form of money, if the customer requests it.\n",
        "And imagine this is happening right now in front of you, help the bank to calculate how many denominations of money are needed.\n",
        "\n",
        "Here is the rule:\n",
        "\n",
        "1. Bank must prioritize the largest denominations first to be issued.\n",
        "2. If there is a balance that cannot be cashed, the bank must inform it.\n",
        "3. Bank must calculate how many number of Paper Money needed and Coins needed.\n",
        "4. Banks can only disburse a maximum amount of 1 billion Rupiah\n",
        "\n",
        "\n",
        "\n",
        "Make a python code that receives an integer number of customer savings from 0 - 1 Billions.\n"
      ],
      "metadata": {
        "id": "v4yL2-lQ9B_E"
      }
    },
    {
      "cell_type": "code",
      "execution_count": 1,
      "metadata": {
        "colab": {
          "base_uri": "https://localhost:8080/"
        },
        "id": "BadZYYvyin7Y",
        "outputId": "d6249ca6-4db9-48e7-c6dd-5be4dcb87c68"
      },
      "outputs": [
        {
          "output_type": "stream",
          "name": "stdout",
          "text": [
            "Enter an integer: 12314123\n",
            "You entered: 12314123\n"
          ]
        }
      ],
      "source": [
        "#Create command to get input from user, the input should be integer\n",
        "\n",
        "num = int(input(\"Enter an integer: \"))\n",
        "print(\"You entered:\", num)"
      ]
    },
    {
      "cell_type": "code",
      "source": [
        "#Create the code here\n",
        "currency = [100000, 50000, 20000, 10000, 5000, 2000, 1000, 500, 200, 100]\n",
        "\n",
        "if (num >= 1e9):\n",
        "  print(\"Maximum Saving is 1000000000\")\n",
        "elif (num < 0):\n",
        "  print(\"Please input the correct number\")\n",
        "else:\n",
        "  storage = [0] * len(currency)\n",
        "  for idx, denom in enumerate(currency):\n",
        "    storage[idx] = num // denom\n",
        "    num %= denom\n",
        "    print(f\"amount of currency Rp {denom:,}: {storage[idx]}\")\n",
        "\n",
        "  print(\"\\nTotal Paper Money: \" + str(sum(storage[0:6])))\n",
        "  print(\"Total Coins: \" + str(sum(storage[6:])))\n",
        "  print(\"\\nCannot be cashed out: \" + str(num))"
      ],
      "metadata": {
        "colab": {
          "base_uri": "https://localhost:8080/"
        },
        "id": "jC9mLViZi169",
        "outputId": "38d62cb2-ad9e-4319-d246-0a095bbdd24f"
      },
      "execution_count": 2,
      "outputs": [
        {
          "output_type": "stream",
          "name": "stdout",
          "text": [
            "amount of currency Rp 100,000: 123\n",
            "amount of currency Rp 50,000: 0\n",
            "amount of currency Rp 20,000: 0\n",
            "amount of currency Rp 10,000: 1\n",
            "amount of currency Rp 5,000: 0\n",
            "amount of currency Rp 2,000: 2\n",
            "amount of currency Rp 1,000: 0\n",
            "amount of currency Rp 500: 0\n",
            "amount of currency Rp 200: 0\n",
            "amount of currency Rp 100: 1\n",
            "\n",
            "Total Paper Money: 126\n",
            "Total Coins: 1\n",
            "\n",
            "Cannot be cashed out: 23\n"
          ]
        }
      ]
    },
    {
      "cell_type": "code",
      "source": [],
      "metadata": {
        "id": "d-jU7PP5jIVV"
      },
      "execution_count": 2,
      "outputs": []
    }
  ]
}